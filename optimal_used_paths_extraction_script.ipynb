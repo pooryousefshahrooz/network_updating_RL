{
 "cells": [
  {
   "cell_type": "code",
   "execution_count": null,
   "metadata": {},
   "outputs": [],
   "source": [
    "from __future__ import print_function\n",
    "\n",
    "import os\n",
    "import numpy as np\n",
    "from absl import app\n",
    "from absl import flags\n",
    "\n",
    "import tensorflow as tf\n",
    "from env import Environment\n",
    "from game import CFRRL_Game\n",
    "from model import Network\n",
    "from config import get_config"
   ]
  },
  {
   "cell_type": "code",
   "execution_count": null,
   "metadata": {},
   "outputs": [],
   "source": [
    "\n",
    "\n",
    "FLAGS = flags.FLAGS\n",
    "flags.DEFINE_string('ckpt', '', 'apply a specific checkpoint')\n",
    "flags.DEFINE_boolean('eval_delay', False, 'evaluate delay or not')\n",
    "\n",
    "def sim(game):\n",
    "    for tm_idx in game.tm_indexes:\n",
    "        _, solution = game.optimal_routing_mlu(tm_idx)\n",
    "        optimal_mlu, optimal_mlu_delay = game.eval_optimal_routing_mlu(tm_idx, solution, eval_delay=False)\n",
    "\n",
    "        for item,v in solution.items():\n",
    "            print('flow index %s from node %s to the next node %s ratio %s'%(item[0],item[1],item[2],v))\n",
    "        import pdb\n",
    "        pdb.set_trace()\n",
    "        #game.evaluate(tm_idx, actions, eval_delay=FLAGS.eval_delay) \n",
    "\n",
    "def main(_):\n",
    "    #Using cpu for testing\n",
    "    tf.config.experimental.set_visible_devices([], 'GPU')\n",
    "    tf.get_logger().setLevel('INFO')\n",
    "\n",
    "    config = get_config(FLAGS) or FLAGS\n",
    "    env = Environment(config, is_training=False)\n",
    "    game = CFRRL_Game(config, env)\n",
    "    network = Network(config, game.state_dims, game.action_dim, game.max_moves)\n",
    "\n",
    "    sim(game)\n",
    "\n",
    "\n",
    "if __name__ == '__main__':\n",
    "    app.run(main)\n"
   ]
  }
 ],
 "metadata": {
  "kernelspec": {
   "display_name": "Python 3",
   "language": "python",
   "name": "python3"
  },
  "language_info": {
   "codemirror_mode": {
    "name": "ipython",
    "version": 3
   },
   "file_extension": ".py",
   "mimetype": "text/x-python",
   "name": "python",
   "nbconvert_exporter": "python",
   "pygments_lexer": "ipython3",
   "version": "3.7.3"
  }
 },
 "nbformat": 4,
 "nbformat_minor": 2
}
